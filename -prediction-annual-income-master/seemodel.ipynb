{
 "cells": [
  {
   "cell_type": "code",
   "execution_count": 1,
   "metadata": {},
   "outputs": [
    {
     "ename": "ModuleNotFoundError",
     "evalue": "No module named 'joblib'",
     "output_type": "error",
     "traceback": [
      "\u001b[31m---------------------------------------------------------------------------\u001b[39m",
      "\u001b[31mModuleNotFoundError\u001b[39m                       Traceback (most recent call last)",
      "\u001b[36mCell\u001b[39m\u001b[36m \u001b[39m\u001b[32mIn[1]\u001b[39m\u001b[32m, line 1\u001b[39m\n\u001b[32m----> \u001b[39m\u001b[32m1\u001b[39m \u001b[38;5;28;01mimport\u001b[39;00m\u001b[38;5;250m \u001b[39m\u001b[34;01mjoblib\u001b[39;00m\n\u001b[32m      3\u001b[39m \u001b[38;5;66;03m# Load pickle file\u001b[39;00m\n\u001b[32m      4\u001b[39m model = joblib.load(\u001b[33m\"\u001b[39m\u001b[33mincome_model.pkl\u001b[39m\u001b[33m\"\u001b[39m)\n",
      "\u001b[31mModuleNotFoundError\u001b[39m: No module named 'joblib'"
     ]
    }
   ],
   "source": [
    "import joblib\n",
    "\n",
    "# Load pickle file\n",
    "model = joblib.load(\"income_model.pkl\")\n",
    "\n",
    "# Check type of object\n",
    "print(type(model))\n",
    "\n",
    "# If it's a pipeline, see the steps\n",
    "if hasattr(model, \"steps\"):\n",
    "    print(\"\\nPipeline steps:\")\n",
    "    for name, step in model.steps:\n",
    "        print(f\"- {name}: {step}\")\n",
    "\n",
    "# If it's a ColumnTransformer\n",
    "if hasattr(model, \"transformers\"):\n",
    "    print(\"\\nTransformers inside ColumnTransformer:\")\n",
    "    for name, trans, cols in model.transformers:\n",
    "        print(f\"- {name}: {trans} (columns: {cols})\")\n",
    "\n",
    "# If it's a classifier\n",
    "if hasattr(model, \"classes_\"):\n",
    "    print(\"\\nTarget classes:\", model.classes_)\n"
   ]
  },
  {
   "cell_type": "code",
   "execution_count": null,
   "metadata": {},
   "outputs": [],
   "source": []
  }
 ],
 "metadata": {
  "kernelspec": {
   "display_name": "Python 3",
   "language": "python",
   "name": "python3"
  },
  "language_info": {
   "codemirror_mode": {
    "name": "ipython",
    "version": 3
   },
   "file_extension": ".py",
   "mimetype": "text/x-python",
   "name": "python",
   "nbconvert_exporter": "python",
   "pygments_lexer": "ipython3",
   "version": "3.13.5"
  }
 },
 "nbformat": 4,
 "nbformat_minor": 2
}
